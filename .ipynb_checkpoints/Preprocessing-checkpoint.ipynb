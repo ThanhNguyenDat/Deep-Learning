{
 "cells": [
  {
   "cell_type": "markdown",
   "id": "47459913",
   "metadata": {},
   "source": [
    "Deep Learning system are often trained on **very large datasets.**\n",
    "\n",
    "Tensorflow make easy:\n",
    "* Data API\n",
    "* TF Transform\n",
    "* TFRecord\n",
    "* TF Datasets"
   ]
  },
  {
   "cell_type": "markdown",
   "id": "d869d289",
   "metadata": {},
   "source": [
    "# TF Dataset"
   ]
  },
  {
   "cell_type": "code",
   "execution_count": 1,
   "id": "1db8a372",
   "metadata": {},
   "outputs": [],
   "source": [
    "import tensorflow as tf\n",
    "from tensorflow import keras"
   ]
  },
  {
   "cell_type": "code",
   "execution_count": 29,
   "id": "fd801ce6",
   "metadata": {},
   "outputs": [
    {
     "data": {
      "text/plain": [
       "<TensorSliceDataset shapes: (), types: tf.int32>"
      ]
     },
     "execution_count": 29,
     "metadata": {},
     "output_type": "execute_result"
    }
   ],
   "source": [
    "sample_data = [11, 22, 33, 44, 55, 66, 77, 88]\n",
    "dataset = tf.data.Dataset.from_tensor_slices(sample_data)\n",
    "dataset"
   ]
  },
  {
   "cell_type": "code",
   "execution_count": 30,
   "id": "24c7f6a2",
   "metadata": {},
   "outputs": [
    {
     "name": "stdout",
     "output_type": "stream",
     "text": [
      "11\n",
      "22\n",
      "33\n",
      "44\n",
      "55\n",
      "66\n",
      "77\n",
      "88\n"
     ]
    }
   ],
   "source": [
    "for item in dataset:\n",
    "    # print(item)\n",
    "    print(item.numpy())"
   ]
  },
  {
   "cell_type": "markdown",
   "id": "ee3abcbb",
   "metadata": {},
   "source": [
    "## Filter data"
   ]
  },
  {
   "cell_type": "code",
   "execution_count": 31,
   "id": "aecb4830",
   "metadata": {},
   "outputs": [
    {
     "name": "stdout",
     "output_type": "stream",
     "text": [
      "tf.Tensor(44, shape=(), dtype=int32)\n",
      "tf.Tensor(55, shape=(), dtype=int32)\n",
      "tf.Tensor(66, shape=(), dtype=int32)\n",
      "tf.Tensor(77, shape=(), dtype=int32)\n",
      "tf.Tensor(88, shape=(), dtype=int32)\n"
     ]
    }
   ],
   "source": [
    "# Filter data\n",
    "dataset = dataset.filter(lambda sample:sample>33)\n",
    "for item in dataset:\n",
    "    print(item)"
   ]
  },
  {
   "cell_type": "markdown",
   "id": "554969d5",
   "metadata": {},
   "source": [
    "## Data transformations"
   ]
  },
  {
   "cell_type": "code",
   "execution_count": 32,
   "id": "20fd103b",
   "metadata": {},
   "outputs": [
    {
     "data": {
      "text/plain": [
       "<BatchDataset shapes: (None,), types: tf.int32>"
      ]
     },
     "execution_count": 32,
     "metadata": {},
     "output_type": "execute_result"
    }
   ],
   "source": [
    "# Data transformations\n",
    "# dataset = dataset.repeat(3) # duplicate data\n",
    "# dataset = dataset.batch(7) # group data. drop_remax\n",
    "dataset = dataset.repeat(3).batch(7)\n",
    "dataset"
   ]
  },
  {
   "cell_type": "code",
   "execution_count": 33,
   "id": "329fa5eb",
   "metadata": {},
   "outputs": [
    {
     "name": "stdout",
     "output_type": "stream",
     "text": [
      "tf.Tensor([44 55 66 77 88 44 55], shape=(7,), dtype=int32)\n",
      "tf.Tensor([66 77 88 44 55 66 77], shape=(7,), dtype=int32)\n",
      "tf.Tensor([88], shape=(1,), dtype=int32)\n"
     ]
    }
   ],
   "source": [
    "for item in dataset:\n",
    "    print(item)"
   ]
  },
  {
   "cell_type": "markdown",
   "id": "f8090e0e",
   "metadata": {},
   "source": [
    "## Custom transformation"
   ]
  },
  {
   "cell_type": "code",
   "execution_count": 35,
   "id": "ad3e2da4",
   "metadata": {},
   "outputs": [
    {
     "data": {
      "text/plain": [
       "<_UnbatchDataset shapes: (), types: tf.int32>"
      ]
     },
     "execution_count": 35,
     "metadata": {},
     "output_type": "execute_result"
    }
   ],
   "source": [
    "# Custom transformation on Each Sample\n",
    "dataset = dataset.unbatch() # ungroup data\n",
    "dataset"
   ]
  },
  {
   "cell_type": "markdown",
   "id": "633b755a",
   "metadata": {},
   "source": [
    "### Sysntax 1 (only for simple transform)\n",
    "Note: num_paralled_calls = #threads"
   ]
  },
  {
   "cell_type": "code",
   "execution_count": null,
   "id": "90545d12",
   "metadata": {},
   "outputs": [],
   "source": []
  }
 ],
 "metadata": {
  "kernelspec": {
   "display_name": "Python 3 (ipykernel)",
   "language": "python",
   "name": "python3"
  },
  "language_info": {
   "codemirror_mode": {
    "name": "ipython",
    "version": 3
   },
   "file_extension": ".py",
   "mimetype": "text/x-python",
   "name": "python",
   "nbconvert_exporter": "python",
   "pygments_lexer": "ipython3",
   "version": "3.7.9"
  }
 },
 "nbformat": 4,
 "nbformat_minor": 5
}
