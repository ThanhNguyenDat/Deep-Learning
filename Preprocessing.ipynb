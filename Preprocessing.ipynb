{
 "cells": [
  {
   "cell_type": "markdown",
   "id": "47459913",
   "metadata": {},
   "source": [
    "Deep Learning system are often trained on **very large datasets.**\n",
    "\n",
    "Tensorflow make easy:\n",
    "* Data API\n",
    "* TF Transform\n",
    "* TFRecord\n",
    "* TF Datasets"
   ]
  },
  {
   "cell_type": "code",
   "execution_count": null,
   "id": "7f2c880f",
   "metadata": {},
   "outputs": [],
   "source": []
  }
 ],
 "metadata": {
  "kernelspec": {
   "display_name": "Python 3 (ipykernel)",
   "language": "python",
   "name": "python3"
  },
  "language_info": {
   "codemirror_mode": {
    "name": "ipython",
    "version": 3
   },
   "file_extension": ".py",
   "mimetype": "text/x-python",
   "name": "python",
   "nbconvert_exporter": "python",
   "pygments_lexer": "ipython3",
   "version": "3.7.9"
  }
 },
 "nbformat": 4,
 "nbformat_minor": 5
}
